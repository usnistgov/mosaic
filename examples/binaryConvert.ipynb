{
 "cells": [
  {
   "cell_type": "code",
   "execution_count": 3,
   "metadata": {
    "collapsed": false
   },
   "outputs": [],
   "source": [
    "\"\"\"\n",
    "\tExtend the MOSAIC ConvertToCSV class to export arbitrary binary files.\n",
    "\t\n",
    "\t:Created:\t02/25/2015\n",
    " \t:Author: \tArvind Balijepalli <arvind.balijepalli@nist.gov>\n",
    "\t:ChangeLog:\n",
    "\t.. line-block::\n",
    "\t\t02/25/15\tAB\tInitial version\n",
    "\"\"\"\n",
    "import mosaic.ConvertToCSV as conv\n",
    "import mosaic.qdfTrajIO as qdf\n",
    "import mosaic.settings as sett\n",
    "import numpy as np\n",
    " \n",
    "from mosaic.metaTrajIO import EmptyDataPipeError\n",
    " \n",
    "class ConvertToBin(conv.ConvertToCSV):\n",
    "\tdef Convert(self, blockSize, binType):\n",
    "\t\t\"\"\"\n",
    "\t\t\tStart converting data\n",
    "\n",
    "\t\t\t:Parameters:\n",
    "\t\t\t\t- `blockSize` \t: number of data points to convert.\n",
    "\t\t\t\t- `binType` \t: Numpy binary type.\n",
    "\t\t\"\"\"\n",
    "\t\ttry:\n",
    "\t\t\twhile(True):\n",
    "\t\t\t\tnp.array( self.trajDataObj.popdata(blockSize), dtype=binType ).tofile(self._filename())\n",
    "\t\texcept EmptyDataPipeError:\n",
    "\t\t\tpass\n",
    " \n",
    " \n",
    "if __name__ == '__main__':\n",
    "\ts={\n",
    "        \"AmplifierOffset\": 0.0,\n",
    "        \"SamplingFrequency\": 500000,\n",
    "        \"AmplifierScale\": \"1.0\",\n",
    "        \"ColumnTypes\": \"[('curr_pA', '>f4')]\",\n",
    "        \"dcOffset\": 0.0,\n",
    "        \"filter\": \"*.bin\",\n",
    "        \"start\": 0.0,\n",
    "        \"HeaderOffset\": 0,\n",
    "        \"IonicCurrentColumn\": \"curr_pA\"\n",
    "    }\n",
    "\tConvertToBin( \n",
    "\t\t\tqdf.qdfTrajIO(dirname='../data',filter='*.qdf', Rfb=9.1E9, Cfb=1.07E-12), \n",
    "\t\t\toutdir=\"../data/\", \n",
    "\t\t\textension=\"bin\" \n",
    "\t\t\t).Convert(blockSize=500000, binType='f4')"
   ]
  },
  {
   "cell_type": "code",
   "execution_count": null,
   "metadata": {
    "collapsed": true
   },
   "outputs": [],
   "source": []
  }
 ],
 "metadata": {
  "kernelspec": {
   "display_name": "Python 2",
   "language": "python",
   "name": "python2"
  },
  "language_info": {
   "codemirror_mode": {
    "name": "ipython",
    "version": 2
   },
   "file_extension": ".py",
   "mimetype": "text/x-python",
   "name": "python",
   "nbconvert_exporter": "python",
   "pygments_lexer": "ipython2",
   "version": "2.7.5"
  }
 },
 "nbformat": 4,
 "nbformat_minor": 0
}
