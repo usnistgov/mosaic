{
 "cells": [
  {
   "cell_type": "code",
   "execution_count": null,
   "metadata": {
    "collapsed": false
   },
   "outputs": [
    {
     "name": "stdout",
     "output_type": "stream",
     "text": [
      "Start time: 2015-05-08 07:16 PM\n",
      "\n",
      "[Status]\n",
      "\tSegment trajectory: ***NORMAL***\n"
     ]
    }
   ],
   "source": [
    "\"\"\"\n",
    "\tPlot the results of a MOSAIC analysis.\n",
    "\t\n",
    "\t:Created:\t02/26/2015\n",
    " \t:Author: \tArvind Balijepalli <arvind.balijepalli@nist.gov>\n",
    "\t:ChangeLog:\n",
    "\t.. line-block::\n",
    "\t\t02/26/15\tAB\tInitial version\n",
    "\"\"\"\n",
    "import mosaic.qdfTrajIO as qdf\n",
    "\n",
    "import mosaic.SingleChannelAnalysis\n",
    "import mosaic.eventSegment as es\n",
    "import mosaic.stepResponseAnalysis as sra \n",
    "\n",
    "import glob\n",
    "import pylab as pl\n",
    "import numpy as np\n",
    "import mosaic.sqlite3MDIO as sql\n",
    "\n",
    "# Process all ABF files in a directory\n",
    "mosaic.SingleChannelAnalysis.SingleChannelAnalysis(\n",
    "            '../data',\n",
    "            qdf.qdfTrajIO,\n",
    "            None,\n",
    "            es.eventSegment,\n",
    "            sra.stepResponseAnalysis\n",
    "        ).Run()\n",
    "\n",
    "\n",
    "# Load the results of the analysis\n",
    "s=sql.sqlite3MDIO()\n",
    "s.openDB(glob.glob(\"../data/*sqlite\")[-1])\n",
    "\n",
    "# We first set up a string that holds the query to retrieve the analysis results. Note that {col} \n",
    "# will be replaced with the name of the database column when we run the query below.\n",
    "q = \"select {col} from metadata where ProcessingStatus='normal' and ResTime > 0.02\"\n",
    "\n",
    "# Now we run two separate queries - the first returns the blockade depth\n",
    "# and the second returns the residence time. Note that we simply take the query\n",
    "# string 'q' above and replace {col} with the column name.\n",
    "x=np.hstack( s.queryDB( q.format(col='BlockDepth') ) )\n",
    "y=np.hstack( s.queryDB( q.format(col='ResTime') ) )\n",
    "\n",
    "# Use matplotlib to plot the results with 2 views: \n",
    "# i)  a 1D histogram of blockade depths and\n",
    "# ii) a 2D histogram of the residence times vs. blockade depth\n",
    "fig = pl.gcf()\n",
    "fig.canvas.set_window_title('Residence Time vs. Blockade Depth')\n",
    "\n",
    "pl.subplot(2, 1, 1)\n",
    "pl.hist(x, bins=500, histtype='step', rwidth=0.1)\n",
    "pl.xticks(())\n",
    "pl.ylabel(\"Counts\", fontsize=14)\n",
    "\n",
    "pl.subplot(2, 1, 2)\n",
    "pl.hist2d(x,y, bins=500)\n",
    "\n",
    "pl.xlabel(\"Blockade Depth\", fontsize=14)\n",
    "pl.ylabel(\"Residence Time (ms)\", fontsize=14)\n",
    "pl.ylim([0.2, 20])\n",
    "\n",
    "pl.show()"
   ]
  },
  {
   "cell_type": "code",
   "execution_count": null,
   "metadata": {
    "collapsed": true
   },
   "outputs": [],
   "source": []
  }
 ],
 "metadata": {
  "kernelspec": {
   "display_name": "Python 2",
   "language": "python",
   "name": "python2"
  },
  "language_info": {
   "codemirror_mode": {
    "name": "ipython",
    "version": 2
   },
   "file_extension": ".py",
   "mimetype": "text/x-python",
   "name": "python",
   "nbconvert_exporter": "python",
   "pygments_lexer": "ipython2",
   "version": "2.7.5"
  }
 },
 "nbformat": 4,
 "nbformat_minor": 0
}
