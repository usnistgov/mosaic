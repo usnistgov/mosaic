{
 "cells": [
  {
   "cell_type": "code",
   "execution_count": 1,
   "metadata": {
    "collapsed": false
   },
   "outputs": [
    {
     "name": "stdout",
     "output_type": "stream",
     "text": [
      "0.0\n"
     ]
    }
   ],
   "source": [
    "\"\"\"\n",
    "\tEstimate the channel gating duration in a single molecule nanopore experiment.\n",
    "\t\n",
    "\t:Created:\t02/26/2015\n",
    " \t:Author: \tArvind Balijepalli <arvind.balijepalli@nist.gov>\n",
    "\t:ChangeLog:\n",
    "\t.. line-block::\n",
    "\t\t02/26/15\tAB\tInitial version\n",
    "\"\"\"\n",
    "import mosaic.qdfTrajIO as qdf\n",
    "import numpy as np\n",
    "\n",
    "def estimateGatingDuration( trajioobj, gatingcurrentpa, blocksz, totaltime, fshz ):\n",
    "    npts = int((fshz)*blocksz)\n",
    "    nblk = int(totaltime/blocksz)-1\n",
    "\n",
    "    # Iterate over the blocks of data and check if the channel was in a gated state.\n",
    "    # The code below returns the mean ionic current of blocks that are below the gating\n",
    "    # threshold (gatingcurrentpa)\n",
    "    gEvents = filter(  lambda x:x<float(gatingcurrentpa),\n",
    "                       [ np.mean(trajioobj.popdata(npts)) for i in range(nblk) ])\n",
    "\n",
    "    return len(gEvents)*blocksz\n",
    "\n",
    "qdfObj=qdf.qdfTrajIO(dirname='../data',filter='*.qdf', Rfb=9.1E9, Cfb=1.07E-12)\n",
    "print estimateGatingDuration( qdfObj, 20., 0.1, 1, qdfObj.FsHz )"
   ]
  },
  {
   "cell_type": "code",
   "execution_count": null,
   "metadata": {
    "collapsed": true
   },
   "outputs": [],
   "source": []
  }
 ],
 "metadata": {
  "kernelspec": {
   "display_name": "Python 2",
   "language": "python",
   "name": "python2"
  },
  "language_info": {
   "codemirror_mode": {
    "name": "ipython",
    "version": 2
   },
   "file_extension": ".py",
   "mimetype": "text/x-python",
   "name": "python",
   "nbconvert_exporter": "python",
   "pygments_lexer": "ipython2",
   "version": "2.7.5"
  }
 },
 "nbformat": 4,
 "nbformat_minor": 0
}
